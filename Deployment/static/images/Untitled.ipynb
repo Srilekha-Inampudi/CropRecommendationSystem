{
 "cells": [
  {
   "cell_type": "code",
   "execution_count": 5,
   "id": "rental-gamma",
   "metadata": {},
   "outputs": [],
   "source": [
    "import os\n",
    "img_dir = os.listdir('.')\n",
    "renamelist = []\n",
    "for img in img_dir:\n",
    "    if img.endswith('.jfif'):\n",
    "        renamelist.append(img)\n",
    "\n",
    "for img in renamelist:\n",
    "    if os.path.exists(img):\n",
    "        src = os.path.realpath(img);\n",
    "        string_name = img.split('.')[0]\n",
    "        os.rename(img,string_name+'.jpg') \n"
   ]
  },
  {
   "cell_type": "code",
   "execution_count": 6,
   "id": "popular-paint",
   "metadata": {},
   "outputs": [
    {
     "data": {
      "text/plain": [
       "['.ipynb_checkpoints',\n",
       " '1.jpg',\n",
       " '2.jpg',\n",
       " '3.jpg',\n",
       " '5.jpg',\n",
       " 'agriculture.png',\n",
       " 'agrinews.jpg',\n",
       " 'analytics.png',\n",
       " 'apple.jpg',\n",
       " 'banana.jpg',\n",
       " 'blackgram.jpg',\n",
       " 'chickpea.jpg',\n",
       " 'coconut.jpg',\n",
       " 'coffee.jpg',\n",
       " 'core.jpg',\n",
       " 'cotton.jpg',\n",
       " 'crop_background.jpg',\n",
       " 'farm_background.jpg',\n",
       " 'farm_background_1.jpg',\n",
       " 'favicon.ico',\n",
       " 'grapes.jpg',\n",
       " 'jute.jpg',\n",
       " 'kidneybeans.jpg',\n",
       " 'lentil.jpg',\n",
       " 'logo.jpg',\n",
       " 'logo.png',\n",
       " 'maize.jpg',\n",
       " 'mango.jpg',\n",
       " 'mothbeans.jpg',\n",
       " 'move-top.png',\n",
       " 'mungbean.jpg',\n",
       " 'muskmelon.jpg',\n",
       " 'orange.jpg',\n",
       " 'papaya.jpg',\n",
       " 'piegonpeas.jpg',\n",
       " 'plant.svg',\n",
       " 'pomogranate.jpg',\n",
       " 'rice.jpg',\n",
       " 's2.jpg',\n",
       " 's3.jpg',\n",
       " 's4.jpg',\n",
       " 'spacy_ner1.png',\n",
       " 'spacy_ner2.png',\n",
       " 'Untitled.ipynb',\n",
       " 'vid.gif',\n",
       " 'watermelon.jpg']"
      ]
     },
     "execution_count": 6,
     "metadata": {},
     "output_type": "execute_result"
    }
   ],
   "source": [
    "os.listdir('.')"
   ]
  },
  {
   "cell_type": "code",
   "execution_count": null,
   "id": "prepared-removal",
   "metadata": {},
   "outputs": [],
   "source": []
  }
 ],
 "metadata": {
  "kernelspec": {
   "display_name": "Python 3",
   "language": "python",
   "name": "python3"
  },
  "language_info": {
   "codemirror_mode": {
    "name": "ipython",
    "version": 3
   },
   "file_extension": ".py",
   "mimetype": "text/x-python",
   "name": "python",
   "nbconvert_exporter": "python",
   "pygments_lexer": "ipython3",
   "version": "3.9.1"
  }
 },
 "nbformat": 4,
 "nbformat_minor": 5
}
